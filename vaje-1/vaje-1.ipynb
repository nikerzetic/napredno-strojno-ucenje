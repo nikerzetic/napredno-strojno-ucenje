{
 "cells": [
  {
   "attachments": {},
   "cell_type": "markdown",
   "metadata": {},
   "source": [
    "# NSU, vaje 1: osnove strojnega učenja v Pythonu"
   ]
  },
  {
   "cell_type": "code",
   "execution_count": 74,
   "metadata": {},
   "outputs": [],
   "source": [
    "import numpy as np\n",
    "import pandas as pd\n",
    "import openml as oml"
   ]
  },
  {
   "attachments": {},
   "cell_type": "markdown",
   "metadata": {},
   "source": [
    "### A: obdelava podatkov\n",
    "A.1: Naložite podatke iz CSV datoteke s paketom **pandas**. "
   ]
  },
  {
   "cell_type": "code",
   "execution_count": 75,
   "metadata": {},
   "outputs": [],
   "source": [
    "podatki = pd.read_csv('podatki.csv', index_col=0)"
   ]
  },
  {
   "attachments": {},
   "cell_type": "markdown",
   "metadata": {},
   "source": [
    "A.2: Osnovne informacij o podatkih. Izpišite prvih nekaj vrstic podatkov in si jih oglejte, nato pa izpišite še:\n",
    "- število vrstic in stolpcev\n",
    "- vrsto spremenljivke v vsakem stolpcu (v pomoč je funkcija **dtypes**), \n",
    "- povzetek statistike (pandas nam pomaga z **describe**), \n",
    "- število manjkajočih vrednosti v vsakem stolpcu (koristna je funkcija **isnull**)."
   ]
  },
  {
   "cell_type": "code",
   "execution_count": 76,
   "metadata": {},
   "outputs": [
    {
     "data": {
      "text/html": [
       "<div>\n",
       "<style scoped>\n",
       "    .dataframe tbody tr th:only-of-type {\n",
       "        vertical-align: middle;\n",
       "    }\n",
       "\n",
       "    .dataframe tbody tr th {\n",
       "        vertical-align: top;\n",
       "    }\n",
       "\n",
       "    .dataframe thead th {\n",
       "        text-align: right;\n",
       "    }\n",
       "</style>\n",
       "<table border=\"1\" class=\"dataframe\">\n",
       "  <thead>\n",
       "    <tr style=\"text-align: right;\">\n",
       "      <th></th>\n",
       "      <th>X1</th>\n",
       "      <th>X2</th>\n",
       "      <th>X3</th>\n",
       "      <th>X4</th>\n",
       "      <th>X5</th>\n",
       "      <th>X6</th>\n",
       "      <th>Y</th>\n",
       "    </tr>\n",
       "  </thead>\n",
       "  <tbody>\n",
       "    <tr>\n",
       "      <th>1</th>\n",
       "      <td>0.452553</td>\n",
       "      <td>69.113756</td>\n",
       "      <td>-2.558555</td>\n",
       "      <td>car</td>\n",
       "      <td>23.210163</td>\n",
       "      <td>NaN</td>\n",
       "      <td>1</td>\n",
       "    </tr>\n",
       "    <tr>\n",
       "      <th>2</th>\n",
       "      <td>0.865373</td>\n",
       "      <td>39.855286</td>\n",
       "      <td>-0.727901</td>\n",
       "      <td>bike</td>\n",
       "      <td>24.136736</td>\n",
       "      <td>NaN</td>\n",
       "      <td>0</td>\n",
       "    </tr>\n",
       "    <tr>\n",
       "      <th>3</th>\n",
       "      <td>NaN</td>\n",
       "      <td>82.321769</td>\n",
       "      <td>-6.092819</td>\n",
       "      <td>bike</td>\n",
       "      <td>70.441331</td>\n",
       "      <td>937875.790987164</td>\n",
       "      <td>0</td>\n",
       "    </tr>\n",
       "    <tr>\n",
       "      <th>4</th>\n",
       "      <td>0.568116</td>\n",
       "      <td>82.638111</td>\n",
       "      <td>-8.248877</td>\n",
       "      <td>car</td>\n",
       "      <td>NaN</td>\n",
       "      <td>197308.828588575</td>\n",
       "      <td>1</td>\n",
       "    </tr>\n",
       "    <tr>\n",
       "      <th>5</th>\n",
       "      <td>0.936621</td>\n",
       "      <td>34.460152</td>\n",
       "      <td>-9.577684</td>\n",
       "      <td>NaN</td>\n",
       "      <td>46.773121</td>\n",
       "      <td>253860.316937789</td>\n",
       "      <td>0</td>\n",
       "    </tr>\n",
       "  </tbody>\n",
       "</table>\n",
       "</div>"
      ],
      "text/plain": [
       "         X1         X2        X3    X4         X5                X6  Y\n",
       "1  0.452553  69.113756 -2.558555   car  23.210163               NaN  1\n",
       "2  0.865373  39.855286 -0.727901  bike  24.136736               NaN  0\n",
       "3       NaN  82.321769 -6.092819  bike  70.441331  937875.790987164  0\n",
       "4  0.568116  82.638111 -8.248877   car        NaN  197308.828588575  1\n",
       "5  0.936621  34.460152 -9.577684   NaN  46.773121  253860.316937789  0"
      ]
     },
     "execution_count": 76,
     "metadata": {},
     "output_type": "execute_result"
    }
   ],
   "source": [
    "podatki.head(5)"
   ]
  },
  {
   "cell_type": "code",
   "execution_count": 77,
   "metadata": {},
   "outputs": [
    {
     "name": "stdout",
     "output_type": "stream",
     "text": [
      "Stevilo vrstic in stolpcev:  (500, 7)\n",
      "\n",
      "Tipi podatkov:\n",
      " X1    float64\n",
      "X2    float64\n",
      "X3    float64\n",
      "X4     object\n",
      "X5    float64\n",
      "X6     object\n",
      "Y       int64\n",
      "dtype: object\n",
      "\n",
      "Povzetek podatkov:\n",
      "                X1          X2          X3          X5           Y\n",
      "count  417.000000  425.000000  401.000000  418.000000  500.000000\n",
      "mean     0.480240   49.712517   -0.326907   50.498433    0.376000\n",
      "std      0.284564   28.518534    5.705867   29.939186    0.484865\n",
      "min      0.002002    0.185484   -9.974356    0.048450    0.000000\n",
      "25%      0.241174   25.220756   -5.220926   24.334954    0.000000\n",
      "50%      0.466964   50.124783   -0.611887   49.792287    0.000000\n",
      "75%      0.722863   74.834014    4.451901   78.042819    1.000000\n",
      "max      0.999430   99.852905    9.928626   99.584908    1.000000\n",
      "\n",
      "Stevilo manjkajocih vrednosti:\n",
      " X1     83\n",
      "X2     75\n",
      "X3     99\n",
      "X4     91\n",
      "X5     82\n",
      "X6    134\n",
      "Y       0\n",
      "dtype: int64\n"
     ]
    }
   ],
   "source": [
    "print('Stevilo vrstic in stolpcev: ', podatki.shape)\n",
    "print('\\nTipi podatkov:\\n', podatki.dtypes)\n",
    "print('\\nPovzetek podatkov:\\n', podatki.describe())\n",
    "manjkajoce = podatki.isnull().sum()\n",
    "print('\\nStevilo manjkajocih vrednosti:\\n', manjkajoce)"
   ]
  },
  {
   "attachments": {},
   "cell_type": "markdown",
   "metadata": {},
   "source": [
    "A.3: Očistite podatke tako, da odpravite manjkajoče vrednosti. Na stolpcih, v katerih manjka manj kot petina vrednosti, izvedete imputacijo manjkajočih vrednosti s povprečjem oziroma najpogostejšo vrednostjo. Stolpce, v katerih manjka več kot petina vrednosti, odstranite."
   ]
  },
  {
   "cell_type": "code",
   "execution_count": 78,
   "metadata": {},
   "outputs": [
    {
     "name": "stdout",
     "output_type": "stream",
     "text": [
      "X1    0\n",
      "X2    0\n",
      "X3    0\n",
      "X4    0\n",
      "X5    0\n",
      "Y     0\n",
      "dtype: int64\n"
     ]
    }
   ],
   "source": [
    "def imputiraj(tabela, stolpec):\n",
    "    if tabela[stolpec].dtype == 'float64':\n",
    "        tabela[stolpec].fillna(tabela[stolpec].mean(), inplace=True)\n",
    "    else:\n",
    "        tabela[stolpec].fillna(tabela[stolpec].mode()[0], inplace=True)\n",
    "\n",
    "def odstrani(tabela, stolpec):\n",
    "    tabela.drop(stolpec, axis=1, inplace=True)\n",
    "    \n",
    "for stolpec in podatki.columns:\n",
    "    if manjkajoce[stolpec] == 0:\n",
    "        continue\n",
    "\n",
    "    if podatki[stolpec].isnull().sum() < len(podatki[stolpec]) * 0.2:\n",
    "        imputiraj(podatki, stolpec)\n",
    "    else:\n",
    "        odstrani(podatki, stolpec)\n",
    "\n",
    "print(podatki.isnull().sum())"
   ]
  },
  {
   "attachments": {},
   "cell_type": "markdown",
   "metadata": {},
   "source": [
    "A.4: Narišite grafe, ki vam bodo pomagali razumeti značilnosti podatkov:\n",
    "- histogrami značilk in ciljne spremenljivke (pandas nudi **hist**)\n",
    "- korelacijska matrika (pandas nudi tudi **corr**)"
   ]
  },
  {
   "cell_type": "code",
   "execution_count": 79,
   "metadata": {},
   "outputs": [
    {
     "data": {
      "image/png": "[encoded data removed]",
      "text/plain": [
       "<Figure size 1400x800 with 6 Axes>"
      ]
     },
     "metadata": {},
     "output_type": "display_data"
    },
    {
     "name": "stderr",
     "output_type": "stream",
     "text": [
      "/tmp/ipykernel_11243/1767488823.py:7: FutureWarning: The default value of numeric_only in DataFrame.corr is deprecated. In a future version, it will default to False. Select only valid columns or specify the value of numeric_only to silence this warning.\n",
      "  corr = podatki.corr()\n",
      "/tmp/ipykernel_11243/1767488823.py:8: FutureWarning: this method is deprecated in favour of `Styler.format(precision=..)`\n",
      "  corr.style.background_gradient(cmap='coolwarm').set_precision(2)\n"
     ]
    },
    {
     "data": {
      "text/html": [
       "<style type=\"text/css\">\n",
       "#T_21686_row0_col0, #T_21686_row1_col1, #T_21686_row2_col2, #T_21686_row3_col3, #T_21686_row4_col4 {\n",
       "  background-color: #b40426;\n",
       "  color: #f1f1f1;\n",
       "}\n",
       "#T_21686_row0_col1 {\n",
       "  background-color: #688aef;\n",
       "  color: #f1f1f1;\n",
       "}\n",
       "#T_21686_row0_col2 {\n",
       "  background-color: #4e68d8;\n",
       "  color: #f1f1f1;\n",
       "}\n",
       "#T_21686_row0_col3 {\n",
       "  background-color: #4a63d3;\n",
       "  color: #f1f1f1;\n",
       "}\n",
       "#T_21686_row0_col4 {\n",
       "  background-color: #6c8ff1;\n",
       "  color: #f1f1f1;\n",
       "}\n",
       "#T_21686_row1_col0, #T_21686_row1_col4, #T_21686_row4_col1, #T_21686_row4_col2, #T_21686_row4_col3 {\n",
       "  background-color: #3b4cc0;\n",
       "  color: #f1f1f1;\n",
       "}\n",
       "#T_21686_row1_col2 {\n",
       "  background-color: #3c4ec2;\n",
       "  color: #f1f1f1;\n",
       "}\n",
       "#T_21686_row1_col3 {\n",
       "  background-color: #5470de;\n",
       "  color: #f1f1f1;\n",
       "}\n",
       "#T_21686_row2_col0 {\n",
       "  background-color: #455cce;\n",
       "  color: #f1f1f1;\n",
       "}\n",
       "#T_21686_row2_col1 {\n",
       "  background-color: #6282ea;\n",
       "  color: #f1f1f1;\n",
       "}\n",
       "#T_21686_row2_col3 {\n",
       "  background-color: #4c66d6;\n",
       "  color: #f1f1f1;\n",
       "}\n",
       "#T_21686_row2_col4 {\n",
       "  background-color: #5f7fe8;\n",
       "  color: #f1f1f1;\n",
       "}\n",
       "#T_21686_row3_col0 {\n",
       "  background-color: #485fd1;\n",
       "  color: #f1f1f1;\n",
       "}\n",
       "#T_21686_row3_col1 {\n",
       "  background-color: #7ea1fa;\n",
       "  color: #f1f1f1;\n",
       "}\n",
       "#T_21686_row3_col2 {\n",
       "  background-color: #536edd;\n",
       "  color: #f1f1f1;\n",
       "}\n",
       "#T_21686_row3_col4 {\n",
       "  background-color: #6687ed;\n",
       "  color: #f1f1f1;\n",
       "}\n",
       "#T_21686_row4_col0 {\n",
       "  background-color: #3f53c6;\n",
       "  color: #f1f1f1;\n",
       "}\n",
       "</style>\n",
       "<table id=\"T_21686\">\n",
       "  <thead>\n",
       "    <tr>\n",
       "      <th class=\"blank level0\" >&nbsp;</th>\n",
       "      <th id=\"T_21686_level0_col0\" class=\"col_heading level0 col0\" >X1</th>\n",
       "      <th id=\"T_21686_level0_col1\" class=\"col_heading level0 col1\" >X2</th>\n",
       "      <th id=\"T_21686_level0_col2\" class=\"col_heading level0 col2\" >X3</th>\n",
       "      <th id=\"T_21686_level0_col3\" class=\"col_heading level0 col3\" >X5</th>\n",
       "      <th id=\"T_21686_level0_col4\" class=\"col_heading level0 col4\" >Y</th>\n",
       "    </tr>\n",
       "  </thead>\n",
       "  <tbody>\n",
       "    <tr>\n",
       "      <th id=\"T_21686_level0_row0\" class=\"row_heading level0 row0\" >X1</th>\n",
       "      <td id=\"T_21686_row0_col0\" class=\"data row0 col0\" >1.00</td>\n",
       "      <td id=\"T_21686_row0_col1\" class=\"data row0 col1\" >-0.02</td>\n",
       "      <td id=\"T_21686_row0_col2\" class=\"data row0 col2\" >0.01</td>\n",
       "      <td id=\"T_21686_row0_col3\" class=\"data row0 col3\" >0.02</td>\n",
       "      <td id=\"T_21686_row0_col4\" class=\"data row0 col4\" >-0.01</td>\n",
       "    </tr>\n",
       "    <tr>\n",
       "      <th id=\"T_21686_level0_row1\" class=\"row_heading level0 row1\" >X2</th>\n",
       "      <td id=\"T_21686_row1_col0\" class=\"data row1 col0\" >-0.02</td>\n",
       "      <td id=\"T_21686_row1_col1\" class=\"data row1 col1\" >1.00</td>\n",
       "      <td id=\"T_21686_row1_col2\" class=\"data row1 col2\" >-0.05</td>\n",
       "      <td id=\"T_21686_row1_col3\" class=\"data row1 col3\" >0.05</td>\n",
       "      <td id=\"T_21686_row1_col4\" class=\"data row1 col4\" >-0.20</td>\n",
       "    </tr>\n",
       "    <tr>\n",
       "      <th id=\"T_21686_level0_row2\" class=\"row_heading level0 row2\" >X3</th>\n",
       "      <td id=\"T_21686_row2_col0\" class=\"data row2 col0\" >0.01</td>\n",
       "      <td id=\"T_21686_row2_col1\" class=\"data row2 col1\" >-0.05</td>\n",
       "      <td id=\"T_21686_row2_col2\" class=\"data row2 col2\" >1.00</td>\n",
       "      <td id=\"T_21686_row2_col3\" class=\"data row2 col3\" >0.03</td>\n",
       "      <td id=\"T_21686_row2_col4\" class=\"data row2 col4\" >-0.05</td>\n",
       "    </tr>\n",
       "    <tr>\n",
       "      <th id=\"T_21686_level0_row3\" class=\"row_heading level0 row3\" >X5</th>\n",
       "      <td id=\"T_21686_row3_col0\" class=\"data row3 col0\" >0.02</td>\n",
       "      <td id=\"T_21686_row3_col1\" class=\"data row3 col1\" >0.05</td>\n",
       "      <td id=\"T_21686_row3_col2\" class=\"data row3 col2\" >0.03</td>\n",
       "      <td id=\"T_21686_row3_col3\" class=\"data row3 col3\" >1.00</td>\n",
       "      <td id=\"T_21686_row3_col4\" class=\"data row3 col4\" >-0.03</td>\n",
       "    </tr>\n",
       "    <tr>\n",
       "      <th id=\"T_21686_level0_row4\" class=\"row_heading level0 row4\" >Y</th>\n",
       "      <td id=\"T_21686_row4_col0\" class=\"data row4 col0\" >-0.01</td>\n",
       "      <td id=\"T_21686_row4_col1\" class=\"data row4 col1\" >-0.20</td>\n",
       "      <td id=\"T_21686_row4_col2\" class=\"data row4 col2\" >-0.05</td>\n",
       "      <td id=\"T_21686_row4_col3\" class=\"data row4 col3\" >-0.03</td>\n",
       "      <td id=\"T_21686_row4_col4\" class=\"data row4 col4\" >1.00</td>\n",
       "    </tr>\n",
       "  </tbody>\n",
       "</table>\n"
      ],
      "text/plain": [
       "<pandas.io.formats.style.Styler at 0x7fbffd7a8b50>"
      ]
     },
     "execution_count": 79,
     "metadata": {},
     "output_type": "execute_result"
    }
   ],
   "source": [
    "from matplotlib import pyplot\n",
    "\n",
    "podatki.hist(figsize=(14,8))\n",
    "pyplot.tight_layout()\n",
    "pyplot.show()\n",
    "\n",
    "corr = podatki.corr()\n",
    "corr.style.background_gradient(cmap='coolwarm').set_precision(2)"
   ]
  },
  {
   "attachments": {},
   "cell_type": "markdown",
   "metadata": {},
   "source": [
    "A.5: V nadaljevanju bomo za strojno učenje uporabljali knjižnico **scikit-learn**, ki ima pomembno omejitev: direktno ne podpira kategoričnih značilk, kot je X4 v naših podatkih. Reši to zagato z uporabo kodirnika **sklearn.preprocessing.OneHotEncoder**."
   ]
  },
  {
   "cell_type": "code",
   "execution_count": 80,
   "metadata": {},
   "outputs": [
    {
     "data": {
      "text/html": [
       "<div>\n",
       "<style scoped>\n",
       "    .dataframe tbody tr th:only-of-type {\n",
       "        vertical-align: middle;\n",
       "    }\n",
       "\n",
       "    .dataframe tbody tr th {\n",
       "        vertical-align: top;\n",
       "    }\n",
       "\n",
       "    .dataframe thead th {\n",
       "        text-align: right;\n",
       "    }\n",
       "</style>\n",
       "<table border=\"1\" class=\"dataframe\">\n",
       "  <thead>\n",
       "    <tr style=\"text-align: right;\">\n",
       "      <th></th>\n",
       "      <th>X4_bike</th>\n",
       "      <th>X4_car</th>\n",
       "      <th>X4_train</th>\n",
       "      <th>X1</th>\n",
       "      <th>X2</th>\n",
       "      <th>X3</th>\n",
       "      <th>X5</th>\n",
       "      <th>Y</th>\n",
       "    </tr>\n",
       "  </thead>\n",
       "  <tbody>\n",
       "    <tr>\n",
       "      <th>1</th>\n",
       "      <td>0.0</td>\n",
       "      <td>1.0</td>\n",
       "      <td>0.0</td>\n",
       "      <td>0.452553</td>\n",
       "      <td>69.113756</td>\n",
       "      <td>-2.558555</td>\n",
       "      <td>23.210163</td>\n",
       "      <td>1</td>\n",
       "    </tr>\n",
       "    <tr>\n",
       "      <th>2</th>\n",
       "      <td>1.0</td>\n",
       "      <td>0.0</td>\n",
       "      <td>0.0</td>\n",
       "      <td>0.865373</td>\n",
       "      <td>39.855286</td>\n",
       "      <td>-0.727901</td>\n",
       "      <td>24.136736</td>\n",
       "      <td>0</td>\n",
       "    </tr>\n",
       "    <tr>\n",
       "      <th>3</th>\n",
       "      <td>1.0</td>\n",
       "      <td>0.0</td>\n",
       "      <td>0.0</td>\n",
       "      <td>0.480240</td>\n",
       "      <td>82.321769</td>\n",
       "      <td>-6.092819</td>\n",
       "      <td>70.441331</td>\n",
       "      <td>0</td>\n",
       "    </tr>\n",
       "    <tr>\n",
       "      <th>4</th>\n",
       "      <td>0.0</td>\n",
       "      <td>1.0</td>\n",
       "      <td>0.0</td>\n",
       "      <td>0.568116</td>\n",
       "      <td>82.638111</td>\n",
       "      <td>-8.248877</td>\n",
       "      <td>50.498433</td>\n",
       "      <td>1</td>\n",
       "    </tr>\n",
       "    <tr>\n",
       "      <th>5</th>\n",
       "      <td>0.0</td>\n",
       "      <td>1.0</td>\n",
       "      <td>0.0</td>\n",
       "      <td>0.936621</td>\n",
       "      <td>34.460152</td>\n",
       "      <td>-9.577684</td>\n",
       "      <td>46.773121</td>\n",
       "      <td>0</td>\n",
       "    </tr>\n",
       "  </tbody>\n",
       "</table>\n",
       "</div>"
      ],
      "text/plain": [
       "   X4_bike  X4_car  X4_train        X1         X2        X3         X5  Y\n",
       "1      0.0     1.0       0.0  0.452553  69.113756 -2.558555  23.210163  1\n",
       "2      1.0     0.0       0.0  0.865373  39.855286 -0.727901  24.136736  0\n",
       "3      1.0     0.0       0.0  0.480240  82.321769 -6.092819  70.441331  0\n",
       "4      0.0     1.0       0.0  0.568116  82.638111 -8.248877  50.498433  1\n",
       "5      0.0     1.0       0.0  0.936621  34.460152 -9.577684  46.773121  0"
      ]
     },
     "execution_count": 80,
     "metadata": {},
     "output_type": "execute_result"
    }
   ],
   "source": [
    "from sklearn.preprocessing import OneHotEncoder\n",
    "\n",
    "kategoricni_stolpci = podatki.columns[podatki.dtypes=='object']\n",
    "\n",
    "OH_encoder = OneHotEncoder(handle_unknown='ignore', sparse_output=False)\n",
    "OH_stolpci = OH_encoder.fit_transform(podatki[kategoricni_stolpci])\n",
    "\n",
    "OH_stolpci = pd.DataFrame(OH_stolpci, columns = OH_encoder.get_feature_names_out())\n",
    "OH_stolpci.index = podatki.index\n",
    "numericni_podatki = podatki.drop(kategoricni_stolpci, axis=1)\n",
    "urejeni_podatki = pd.concat([OH_stolpci, numericni_podatki], axis=1)\n",
    "\n",
    "urejeni_podatki.head()\n"
   ]
  },
  {
   "attachments": {},
   "cell_type": "markdown",
   "metadata": {},
   "source": [
    "### B: Binarna klasifikacija s scikit-learn\n",
    "\n",
    "B.1: Na celotnih podatkih natreniraj model najbližjih sosedov (**sklearn.neighbors.KNeighborsClassifier**)."
   ]
  },
  {
   "cell_type": "code",
   "execution_count": 81,
   "metadata": {},
   "outputs": [
    {
     "data": {
      "text/html": [
       "<style>#sk-container-id-3 {color: black;background-color: white;}#sk-container-id-3 pre{padding: 0;}#sk-container-id-3 div.sk-toggleable {background-color: white;}#sk-container-id-3 label.sk-toggleable__label {cursor: pointer;display: block;width: 100%;margin-bottom: 0;padding: 0.3em;box-sizing: border-box;text-align: center;}#sk-container-id-3 label.sk-toggleable__label-arrow:before {content: \"▸\";float: left;margin-right: 0.25em;color: #696969;}#sk-container-id-3 label.sk-toggleable__label-arrow:hover:before {color: black;}#sk-container-id-3 div.sk-estimator:hover label.sk-toggleable__label-arrow:before {color: black;}#sk-container-id-3 div.sk-toggleable__content {max-height: 0;max-width: 0;overflow: hidden;text-align: left;background-color: #f0f8ff;}#sk-container-id-3 div.sk-toggleable__content pre {margin: 0.2em;color: black;border-radius: 0.25em;background-color: #f0f8ff;}#sk-container-id-3 input.sk-toggleable__control:checked~div.sk-toggleable__content {max-height: 200px;max-width: 100%;overflow: auto;}#sk-container-id-3 input.sk-toggleable__control:checked~label.sk-toggleable__label-arrow:before {content: \"▾\";}#sk-container-id-3 div.sk-estimator input.sk-toggleable__control:checked~label.sk-toggleable__label {background-color: #d4ebff;}#sk-container-id-3 div.sk-label input.sk-toggleable__control:checked~label.sk-toggleable__label {background-color: #d4ebff;}#sk-container-id-3 input.sk-hidden--visually {border: 0;clip: rect(1px 1px 1px 1px);clip: rect(1px, 1px, 1px, 1px);height: 1px;margin: -1px;overflow: hidden;padding: 0;position: absolute;width: 1px;}#sk-container-id-3 div.sk-estimator {font-family: monospace;background-color: #f0f8ff;border: 1px dotted black;border-radius: 0.25em;box-sizing: border-box;margin-bottom: 0.5em;}#sk-container-id-3 div.sk-estimator:hover {background-color: #d4ebff;}#sk-container-id-3 div.sk-parallel-item::after {content: \"\";width: 100%;border-bottom: 1px solid gray;flex-grow: 1;}#sk-container-id-3 div.sk-label:hover label.sk-toggleable__label {background-color: #d4ebff;}#sk-container-id-3 div.sk-serial::before {content: \"\";position: absolute;border-left: 1px solid gray;box-sizing: border-box;top: 0;bottom: 0;left: 50%;z-index: 0;}#sk-container-id-3 div.sk-serial {display: flex;flex-direction: column;align-items: center;background-color: white;padding-right: 0.2em;padding-left: 0.2em;position: relative;}#sk-container-id-3 div.sk-item {position: relative;z-index: 1;}#sk-container-id-3 div.sk-parallel {display: flex;align-items: stretch;justify-content: center;background-color: white;position: relative;}#sk-container-id-3 div.sk-item::before, #sk-container-id-3 div.sk-parallel-item::before {content: \"\";position: absolute;border-left: 1px solid gray;box-sizing: border-box;top: 0;bottom: 0;left: 50%;z-index: -1;}#sk-container-id-3 div.sk-parallel-item {display: flex;flex-direction: column;z-index: 1;position: relative;background-color: white;}#sk-container-id-3 div.sk-parallel-item:first-child::after {align-self: flex-end;width: 50%;}#sk-container-id-3 div.sk-parallel-item:last-child::after {align-self: flex-start;width: 50%;}#sk-container-id-3 div.sk-parallel-item:only-child::after {width: 0;}#sk-container-id-3 div.sk-dashed-wrapped {border: 1px dashed gray;margin: 0 0.4em 0.5em 0.4em;box-sizing: border-box;padding-bottom: 0.4em;background-color: white;}#sk-container-id-3 div.sk-label label {font-family: monospace;font-weight: bold;display: inline-block;line-height: 1.2em;}#sk-container-id-3 div.sk-label-container {text-align: center;}#sk-container-id-3 div.sk-container {/* jupyter's `normalize.less` sets `[hidden] { display: none; }` but bootstrap.min.css set `[hidden] { display: none !important; }` so we also need the `!important` here to be able to override the default hidden behavior on the sphinx rendered scikit-learn.org. See: https://github.com/scikit-learn/scikit-learn/issues/21755 */display: inline-block !important;position: relative;}#sk-container-id-3 div.sk-text-repr-fallback {display: none;}</style><div id=\"sk-container-id-3\" class=\"sk-top-container\"><div class=\"sk-text-repr-fallback\"><pre>KNeighborsClassifier(n_neighbors=2)</pre><b>In a Jupyter environment, please rerun this cell to show the HTML representation or trust the notebook. <br />On GitHub, the HTML representation is unable to render, please try loading this page with nbviewer.org.</b></div><div class=\"sk-container\" hidden><div class=\"sk-item\"><div class=\"sk-estimator sk-toggleable\"><input class=\"sk-toggleable__control sk-hidden--visually\" id=\"sk-estimator-id-3\" type=\"checkbox\" checked><label for=\"sk-estimator-id-3\" class=\"sk-toggleable__label sk-toggleable__label-arrow\">KNeighborsClassifier</label><div class=\"sk-toggleable__content\"><pre>KNeighborsClassifier(n_neighbors=2)</pre></div></div></div></div></div>"
      ],
      "text/plain": [
       "KNeighborsClassifier(n_neighbors=2)"
      ]
     },
     "execution_count": 81,
     "metadata": {},
     "output_type": "execute_result"
    }
   ],
   "source": [
    "from sklearn.neighbors import KNeighborsClassifier\n",
    "\n",
    "X = urejeni_podatki.drop('Y', axis=1)\n",
    "y = urejeni_podatki['Y']\n",
    "\n",
    "model_najblizjih_sosedov = KNeighborsClassifier(2)\n",
    "model_najblizjih_sosedov.fit(X, y)"
   ]
  },
  {
   "attachments": {},
   "cell_type": "markdown",
   "metadata": {},
   "source": [
    "B.2: Izračunaj natančnost modela na učni množici (celotnih podatkih)."
   ]
  },
  {
   "cell_type": "code",
   "execution_count": 82,
   "metadata": {},
   "outputs": [
    {
     "name": "stdout",
     "output_type": "stream",
     "text": [
      "Natancnost modela:  0.806\n"
     ]
    }
   ],
   "source": [
    "napovedi = model_najblizjih_sosedov.predict(X)\n",
    "natancnost = np.sum(y == napovedi)/len(y)\n",
    "\n",
    "print('Natancnost modela: ', natancnost)\n"
   ]
  },
  {
   "attachments": {},
   "cell_type": "markdown",
   "metadata": {},
   "source": [
    "B.3: Ocena na učnih podatkih ni dovolj dobra, saj nam ne zagotavlja, da bo model dobro deloval na novih podatkih. Model lahko preprosto zapomni vse podatke v učni množici, vendar ne bo deloval dobro na novih podatkih. Boljša metoda bi bila, da model preskusimo na novih podatkih. Da oceniš sposobnost generaliziranja, razdeli podatke podatkov na učno in testno množico v razmerju 4:1. Pri tem si lahko pomagaš s funkcijo **sklearn.validation.train_test_split**. \n",
    "Potem na novo natreniraj model na učni množici ter izračunaj njegovo natančnost na testni množici.\n",
    "\n",
    "Opomba: deljenje na učno in testno množico vključuje element naključnosti. Za ponovljive poskuse moramo nastaviti seme naključnega generatorja, npr. **np.random.seed(0)**."
   ]
  },
  {
   "cell_type": "code",
   "execution_count": 83,
   "metadata": {},
   "outputs": [
    {
     "name": "stdout",
     "output_type": "stream",
     "text": [
      "Natancnost modela:  0.806\n"
     ]
    }
   ],
   "source": [
    "from sklearn.model_selection import train_test_split\n",
    "\n",
    "np.random.seed(0)\n",
    "X_train, X_test, y_train, y_test = train_test_split(X, y, test_size=0.8) # random_state parameter\n",
    "\n",
    "model_najblizjih_sosedov_test_train = KNeighborsClassifier(2)\n",
    "model_najblizjih_sosedov_test_train.fit(X_train, y_train)\n",
    "\n",
    "napovedi_test_train = model_najblizjih_sosedov_test_train.predict(X_test)\n",
    "natancnost_test_train = np.sum(napovedi_test_train == y_test)/len(y_test)\n",
    "\n",
    "print('Natancnost modela: ', natancnost_test_train)"
   ]
  },
  {
   "attachments": {},
   "cell_type": "markdown",
   "metadata": {},
   "source": [
    "B.4: Se ti zdi, da model deluje dobro? \n",
    "Metoda najbližjih sosedov je lahko občutljiva na relativne magnitude značilk. Poskusi podatke skalirati z standardno transformacijo $x_i' = \\frac{x_i-\\bar{x_i}}{\\sigma_{x_i}}$. Pomagaš si lahko s **sklearn.preprocessing.StandardScaler**.\n",
    "Metoda najbližjih sosedov ima tudi en pomemben *hiperparameter*: število sosedov. Nariši graf odvisnosti natančnosti modela (na skaliranih podatkih) v odvisnosti od števila sosedov 1-30. Katero je najboljše?"
   ]
  },
  {
   "cell_type": "code",
   "execution_count": null,
   "metadata": {},
   "outputs": [],
   "source": []
  },
  {
   "attachments": {},
   "cell_type": "markdown",
   "metadata": {},
   "source": [
    "B.5: Natančnost je mera uspešnosti, ki se pogosto uporablja pri klasifikacijskih problemih. V našem primeru imamo poseben primer klasifikacije, pri katerem ima ciljna spremenljivka samo dva razreda: binarna klasifikacija. Kadar je porazdelitev razredov v podatkih neenakomerna, natančnost ni več dobra mera. V takih primerih si pomagamo z matriko zmede (confusion matrix), preciznostjo in priklicem (precision and recall), ROC krivuljo (ROC curve) ter ploščino pod le-to (ROC-AUC). Izpiši vse našteto za KNN z izbranim k (vsaj 10)."
   ]
  },
  {
   "cell_type": "code",
   "execution_count": null,
   "metadata": {},
   "outputs": [],
   "source": []
  },
  {
   "attachments": {},
   "cell_type": "markdown",
   "metadata": {},
   "source": [
    "B.DODATNO: Preizkusi še nekaj drugih metod strojnega učenja, npr. logistično regresijo (**sklearn.linear_model.LogisticRegression**), odločitveno drevo (**sklearn.tree.DecisionTreeClassifier**), naključni gozd (**sklearn.ensemble.RandomForestClassifier**) ter metodo podpornih vektorjev (**sklearn.svm.SVC**)."
   ]
  },
  {
   "attachments": {},
   "cell_type": "markdown",
   "metadata": {},
   "source": [
    "### C: regresija - napovedovanje numerične ciljne spremenljivke\n",
    "Za nalogo regresije uporabljamo druge metode strojnega učenja kot za klasifikacijo, vendar pa med njimi pogosto obstajajo analogije.\n",
    "Drugačne so tudi metrike za računanje napake in uspešnosti modelov. Pri regresiji so koristne metrike MSE, RMSE, $R^2$, NMSE, itd.\n",
    "\n",
    "C.1: Naloži podatke v datoteki \"podatki_regresija.csv\". Napovedna spremenljivka se imenuje \"target\", tokrat so podatki že očiščeni. Nauči model linearne regresije (**sklearn.linear_model.LinearRegression**) ter izračunaj njegov RMSE ter $R^2$."
   ]
  },
  {
   "cell_type": "code",
   "execution_count": null,
   "metadata": {},
   "outputs": [],
   "source": []
  },
  {
   "attachments": {},
   "cell_type": "markdown",
   "metadata": {},
   "source": [
    "C.2: Delitev na učno in testno množico ni slab pristop, boljšo oceno napake pa lahko pridobimo s prečnim preverjanjem (k-fold cross-validation). Pri tem postopku podatke razdelimo na k (tipično 5 ali 10) enakih delov. Kot učno množico uporabimo vse razen enega dela, ki služi kot testna množica. Ta postopek izvedemo k-krat, pri čemer na vsaki iteraciji za testno množico razglasimo drug del podatkov. Ponavadi na koncu napake povprečimo. Ker pri prečnem preverjanju učimo model k-krat, je lahko ta postopek zamuden, če imamo zelo veliko podatkov in/ali počasno metodo strojnega učenja.\n",
    "\n",
    "Z metodo 5-kratnega prečnega preverjanja preizkusi vsaj 3 različne metode ter določi, katera je najboljša za naše podatke. Nekaj predlogov: linearna regresija, podporni vektorji (**sklearn.svm.SVR**), naključni gozd (**sklearn.ensemble.RandomForestRegressor**), najbližji sosedi (**sklearn.neighbor.KNeighborsRegressor**). Pomagaš si lahko s funkcijo **sklearn.model_selection.cross_validate** (preprosta) ali **sklearn.model_selection.KFold** (več nadzora)."
   ]
  },
  {
   "cell_type": "code",
   "execution_count": null,
   "metadata": {},
   "outputs": [],
   "source": []
  }
 ],
 "metadata": {
  "kernelspec": {
   "display_name": "venv",
   "language": "python",
   "name": "python3"
  },
  "language_info": {
   "codemirror_mode": {
    "name": "ipython",
    "version": 3
   },
   "file_extension": ".py",
   "mimetype": "text/x-python",
   "name": "python",
   "nbconvert_exporter": "python",
   "pygments_lexer": "ipython3",
   "version": "3.10.6"
  },
  "orig_nbformat": 4,
  "vscode": {
   "interpreter": {
    "hash": "8c5f4e40c9e368756cacc3494e0d7978202b5e2659e76ef83354fdeb62dd0707"
   }
  }
 },
 "nbformat": 4,
 "nbformat_minor": 2
}
